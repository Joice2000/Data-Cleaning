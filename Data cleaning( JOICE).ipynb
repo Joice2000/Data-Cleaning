{
 "cells": [
  {
   "cell_type": "markdown",
   "id": "1fba2637",
   "metadata": {},
   "source": [
    "# DATA CLEANING"
   ]
  },
  {
   "cell_type": "code",
   "execution_count": 1,
   "id": "bb94c4d2",
   "metadata": {},
   "outputs": [],
   "source": [
    "import numpy as np\n",
    "import pandas as pd\n",
    "\n"
   ]
  },
  {
   "cell_type": "markdown",
   "id": "355f257a",
   "metadata": {},
   "source": [
    "#steps in data cleaning:\n",
    "1.changing inconsistent column names\n",
    "2.column renaming\n",
    "3.checking for null values\n",
    "4.checking for duplicate values\n",
    "5.Finding outliers and removing it"
   ]
  },
  {
   "cell_type": "code",
   "execution_count": 2,
   "id": "55884e1a",
   "metadata": {},
   "outputs": [
    {
     "data": {
      "text/html": [
       "<div>\n",
       "<style scoped>\n",
       "    .dataframe tbody tr th:only-of-type {\n",
       "        vertical-align: middle;\n",
       "    }\n",
       "\n",
       "    .dataframe tbody tr th {\n",
       "        vertical-align: top;\n",
       "    }\n",
       "\n",
       "    .dataframe thead th {\n",
       "        text-align: right;\n",
       "    }\n",
       "</style>\n",
       "<table border=\"1\" class=\"dataframe\">\n",
       "  <thead>\n",
       "    <tr style=\"text-align: right;\">\n",
       "      <th></th>\n",
       "      <th>correct data</th>\n",
       "      <th>entry_id</th>\n",
       "      <th>Temperature_F</th>\n",
       "      <th>Humidity_%</th>\n",
       "      <th>PM2.5_ATM_ug/m3</th>\n",
       "    </tr>\n",
       "  </thead>\n",
       "  <tbody>\n",
       "    <tr>\n",
       "      <th>0</th>\n",
       "      <td>26-Jul-21</td>\n",
       "      <td>198</td>\n",
       "      <td>89</td>\n",
       "      <td>50</td>\n",
       "      <td>40.78</td>\n",
       "    </tr>\n",
       "    <tr>\n",
       "      <th>1</th>\n",
       "      <td>26-Jul-21</td>\n",
       "      <td>199</td>\n",
       "      <td>89</td>\n",
       "      <td>50</td>\n",
       "      <td>40.09</td>\n",
       "    </tr>\n",
       "    <tr>\n",
       "      <th>2</th>\n",
       "      <td>26-Jul-21</td>\n",
       "      <td>200</td>\n",
       "      <td>89</td>\n",
       "      <td>50</td>\n",
       "      <td>37.93</td>\n",
       "    </tr>\n",
       "    <tr>\n",
       "      <th>3</th>\n",
       "      <td>26-Jul-21</td>\n",
       "      <td>201</td>\n",
       "      <td>89</td>\n",
       "      <td>50</td>\n",
       "      <td>33.18</td>\n",
       "    </tr>\n",
       "    <tr>\n",
       "      <th>4</th>\n",
       "      <td>26-Jul-21</td>\n",
       "      <td>202</td>\n",
       "      <td>89</td>\n",
       "      <td>50</td>\n",
       "      <td>37.84</td>\n",
       "    </tr>\n",
       "  </tbody>\n",
       "</table>\n",
       "</div>"
      ],
      "text/plain": [
       "  correct data  entry_id  Temperature_F  Humidity_%  PM2.5_ATM_ug/m3\n",
       "0    26-Jul-21       198             89          50            40.78\n",
       "1    26-Jul-21       199             89          50            40.09\n",
       "2    26-Jul-21       200             89          50            37.93\n",
       "3    26-Jul-21       201             89          50            33.18\n",
       "4    26-Jul-21       202             89          50            37.84"
      ]
     },
     "execution_count": 2,
     "metadata": {},
     "output_type": "execute_result"
    }
   ],
   "source": [
    "df = pd.read_csv(r\"C:\\Users\\joice mary\\Downloads\\port_harcourt__nigeria__4.80678_7.002953_.csv\")\n",
    "df.head()"
   ]
  },
  {
   "cell_type": "markdown",
   "id": "51e4c270",
   "metadata": {},
   "source": [
    "# 1. changing inconsistent column names"
   ]
  },
  {
   "cell_type": "code",
   "execution_count": 3,
   "id": "5bb52dae",
   "metadata": {},
   "outputs": [
    {
     "data": {
      "text/plain": [
       "Index(['correct data', 'entry_id', 'Temperature_F', 'Humidity_%',\n",
       "       'PM2.5_ATM_ug/m3'],\n",
       "      dtype='object')"
      ]
     },
     "execution_count": 3,
     "metadata": {},
     "output_type": "execute_result"
    }
   ],
   "source": [
    "df.columns"
   ]
  },
  {
   "cell_type": "code",
   "execution_count": 4,
   "id": "4b37ae60",
   "metadata": {},
   "outputs": [],
   "source": [
    "df.columns = df.columns.str.upper()"
   ]
  },
  {
   "cell_type": "code",
   "execution_count": 5,
   "id": "1b084f10",
   "metadata": {},
   "outputs": [
    {
     "data": {
      "text/plain": [
       "Index(['CORRECT DATA', 'ENTRY_ID', 'TEMPERATURE_F', 'HUMIDITY_%',\n",
       "       'PM2.5_ATM_UG/M3'],\n",
       "      dtype='object')"
      ]
     },
     "execution_count": 5,
     "metadata": {},
     "output_type": "execute_result"
    }
   ],
   "source": [
    "df.columns"
   ]
  },
  {
   "cell_type": "code",
   "execution_count": 6,
   "id": "8b404226",
   "metadata": {},
   "outputs": [
    {
     "data": {
      "text/plain": [
       "RangeIndex(start=0, stop=25929, step=1)"
      ]
     },
     "execution_count": 6,
     "metadata": {},
     "output_type": "execute_result"
    }
   ],
   "source": [
    "df.index"
   ]
  },
  {
   "cell_type": "markdown",
   "id": "333834ce",
   "metadata": {},
   "source": [
    "# 2. renaming column names"
   ]
  },
  {
   "cell_type": "code",
   "execution_count": 7,
   "id": "500e6495",
   "metadata": {},
   "outputs": [
    {
     "data": {
      "text/html": [
       "<div>\n",
       "<style scoped>\n",
       "    .dataframe tbody tr th:only-of-type {\n",
       "        vertical-align: middle;\n",
       "    }\n",
       "\n",
       "    .dataframe tbody tr th {\n",
       "        vertical-align: top;\n",
       "    }\n",
       "\n",
       "    .dataframe thead th {\n",
       "        text-align: right;\n",
       "    }\n",
       "</style>\n",
       "<table border=\"1\" class=\"dataframe\">\n",
       "  <thead>\n",
       "    <tr style=\"text-align: right;\">\n",
       "      <th></th>\n",
       "      <th>ENTRY_DATE</th>\n",
       "      <th>ENTRY_ID</th>\n",
       "      <th>TEMPERATURE_F</th>\n",
       "      <th>HUMIDITY_%</th>\n",
       "      <th>PM2.5_ATM_UG/M3</th>\n",
       "    </tr>\n",
       "  </thead>\n",
       "  <tbody>\n",
       "    <tr>\n",
       "      <th>0</th>\n",
       "      <td>26-Jul-21</td>\n",
       "      <td>198</td>\n",
       "      <td>89</td>\n",
       "      <td>50</td>\n",
       "      <td>40.78</td>\n",
       "    </tr>\n",
       "    <tr>\n",
       "      <th>1</th>\n",
       "      <td>26-Jul-21</td>\n",
       "      <td>199</td>\n",
       "      <td>89</td>\n",
       "      <td>50</td>\n",
       "      <td>40.09</td>\n",
       "    </tr>\n",
       "    <tr>\n",
       "      <th>2</th>\n",
       "      <td>26-Jul-21</td>\n",
       "      <td>200</td>\n",
       "      <td>89</td>\n",
       "      <td>50</td>\n",
       "      <td>37.93</td>\n",
       "    </tr>\n",
       "    <tr>\n",
       "      <th>3</th>\n",
       "      <td>26-Jul-21</td>\n",
       "      <td>201</td>\n",
       "      <td>89</td>\n",
       "      <td>50</td>\n",
       "      <td>33.18</td>\n",
       "    </tr>\n",
       "    <tr>\n",
       "      <th>4</th>\n",
       "      <td>26-Jul-21</td>\n",
       "      <td>202</td>\n",
       "      <td>89</td>\n",
       "      <td>50</td>\n",
       "      <td>37.84</td>\n",
       "    </tr>\n",
       "    <tr>\n",
       "      <th>...</th>\n",
       "      <td>...</td>\n",
       "      <td>...</td>\n",
       "      <td>...</td>\n",
       "      <td>...</td>\n",
       "      <td>...</td>\n",
       "    </tr>\n",
       "    <tr>\n",
       "      <th>25924</th>\n",
       "      <td>03-Sep-21</td>\n",
       "      <td>26122</td>\n",
       "      <td>78</td>\n",
       "      <td>70</td>\n",
       "      <td>35.43</td>\n",
       "    </tr>\n",
       "    <tr>\n",
       "      <th>25925</th>\n",
       "      <td>03-Sep-21</td>\n",
       "      <td>26123</td>\n",
       "      <td>78</td>\n",
       "      <td>70</td>\n",
       "      <td>36.55</td>\n",
       "    </tr>\n",
       "    <tr>\n",
       "      <th>25926</th>\n",
       "      <td>03-Sep-21</td>\n",
       "      <td>26124</td>\n",
       "      <td>79</td>\n",
       "      <td>70</td>\n",
       "      <td>38.28</td>\n",
       "    </tr>\n",
       "    <tr>\n",
       "      <th>25927</th>\n",
       "      <td>03-Sep-21</td>\n",
       "      <td>26125</td>\n",
       "      <td>79</td>\n",
       "      <td>70</td>\n",
       "      <td>43.05</td>\n",
       "    </tr>\n",
       "    <tr>\n",
       "      <th>25928</th>\n",
       "      <td>03-Sep-21</td>\n",
       "      <td>26126</td>\n",
       "      <td>78</td>\n",
       "      <td>71</td>\n",
       "      <td>44.86</td>\n",
       "    </tr>\n",
       "  </tbody>\n",
       "</table>\n",
       "<p>25929 rows × 5 columns</p>\n",
       "</div>"
      ],
      "text/plain": [
       "       ENTRY_DATE  ENTRY_ID  TEMPERATURE_F  HUMIDITY_%  PM2.5_ATM_UG/M3\n",
       "0       26-Jul-21       198             89          50            40.78\n",
       "1       26-Jul-21       199             89          50            40.09\n",
       "2       26-Jul-21       200             89          50            37.93\n",
       "3       26-Jul-21       201             89          50            33.18\n",
       "4       26-Jul-21       202             89          50            37.84\n",
       "...           ...       ...            ...         ...              ...\n",
       "25924   03-Sep-21     26122             78          70            35.43\n",
       "25925   03-Sep-21     26123             78          70            36.55\n",
       "25926   03-Sep-21     26124             79          70            38.28\n",
       "25927   03-Sep-21     26125             79          70            43.05\n",
       "25928   03-Sep-21     26126             78          71            44.86\n",
       "\n",
       "[25929 rows x 5 columns]"
      ]
     },
     "execution_count": 7,
     "metadata": {},
     "output_type": "execute_result"
    }
   ],
   "source": [
    "df1=df.rename(columns = {'CORRECT DATA' :' ENTRY_DATE'})\n",
    "df1"
   ]
  },
  {
   "cell_type": "code",
   "execution_count": 8,
   "id": "953ce3a6",
   "metadata": {},
   "outputs": [
    {
     "data": {
      "text/plain": [
       "array([['26-Jul-21', 198, 89, 50, 40.78],\n",
       "       ['26-Jul-21', 199, 89, 50, 40.09],\n",
       "       ['26-Jul-21', 200, 89, 50, 37.93],\n",
       "       ...,\n",
       "       ['03-Sep-21', 26124, 79, 70, 38.28],\n",
       "       ['03-Sep-21', 26125, 79, 70, 43.05],\n",
       "       ['03-Sep-21', 26126, 78, 71, 44.86]], dtype=object)"
      ]
     },
     "execution_count": 8,
     "metadata": {},
     "output_type": "execute_result"
    }
   ],
   "source": [
    "df1.values"
   ]
  },
  {
   "cell_type": "code",
   "execution_count": 9,
   "id": "b9d25bd6",
   "metadata": {},
   "outputs": [
    {
     "data": {
      "text/plain": [
       "pandas.core.frame.DataFrame"
      ]
     },
     "execution_count": 9,
     "metadata": {},
     "output_type": "execute_result"
    }
   ],
   "source": [
    "type(df1)"
   ]
  },
  {
   "cell_type": "code",
   "execution_count": 10,
   "id": "4ce7f718",
   "metadata": {},
   "outputs": [
    {
     "data": {
      "text/plain": [
       "(25929, 5)"
      ]
     },
     "execution_count": 10,
     "metadata": {},
     "output_type": "execute_result"
    }
   ],
   "source": [
    "df1.shape"
   ]
  },
  {
   "cell_type": "code",
   "execution_count": 23,
   "id": "921a9f80",
   "metadata": {
    "scrolled": false
   },
   "outputs": [
    {
     "data": {
      "text/plain": [
       " ENTRY_DATE         object\n",
       "ENTRY_ID             int64\n",
       "TEMPERATURE_F        int64\n",
       "HUMIDITY_%           int64\n",
       "PM2.5_ATM_UG/M3    float64\n",
       "dtype: object"
      ]
     },
     "execution_count": 23,
     "metadata": {},
     "output_type": "execute_result"
    }
   ],
   "source": [
    "df1.dtypes\n"
   ]
  },
  {
   "cell_type": "code",
   "execution_count": 11,
   "id": "c3f4ebcd",
   "metadata": {
    "scrolled": true
   },
   "outputs": [
    {
     "name": "stdout",
     "output_type": "stream",
     "text": [
      "<class 'pandas.core.frame.DataFrame'>\n",
      "RangeIndex: 25929 entries, 0 to 25928\n",
      "Data columns (total 5 columns):\n",
      " #   Column           Non-Null Count  Dtype  \n",
      "---  ------           --------------  -----  \n",
      " 0    ENTRY_DATE      25929 non-null  object \n",
      " 1   ENTRY_ID         25929 non-null  int64  \n",
      " 2   TEMPERATURE_F    25929 non-null  int64  \n",
      " 3   HUMIDITY_%       25929 non-null  int64  \n",
      " 4   PM2.5_ATM_UG/M3  25929 non-null  float64\n",
      "dtypes: float64(1), int64(3), object(1)\n",
      "memory usage: 1013.0+ KB\n"
     ]
    }
   ],
   "source": [
    "df1.info()"
   ]
  },
  {
   "cell_type": "code",
   "execution_count": 12,
   "id": "f913079b",
   "metadata": {},
   "outputs": [
    {
     "data": {
      "text/html": [
       "<div>\n",
       "<style scoped>\n",
       "    .dataframe tbody tr th:only-of-type {\n",
       "        vertical-align: middle;\n",
       "    }\n",
       "\n",
       "    .dataframe tbody tr th {\n",
       "        vertical-align: top;\n",
       "    }\n",
       "\n",
       "    .dataframe thead th {\n",
       "        text-align: right;\n",
       "    }\n",
       "</style>\n",
       "<table border=\"1\" class=\"dataframe\">\n",
       "  <thead>\n",
       "    <tr style=\"text-align: right;\">\n",
       "      <th></th>\n",
       "      <th>ENTRY_DATE</th>\n",
       "      <th>ENTRY_ID</th>\n",
       "      <th>TEMPERATURE_F</th>\n",
       "      <th>HUMIDITY_%</th>\n",
       "      <th>PM2.5_ATM_UG/M3</th>\n",
       "    </tr>\n",
       "  </thead>\n",
       "  <tbody>\n",
       "    <tr>\n",
       "      <th>25924</th>\n",
       "      <td>03-Sep-21</td>\n",
       "      <td>26122</td>\n",
       "      <td>78</td>\n",
       "      <td>70</td>\n",
       "      <td>35.43</td>\n",
       "    </tr>\n",
       "    <tr>\n",
       "      <th>25925</th>\n",
       "      <td>03-Sep-21</td>\n",
       "      <td>26123</td>\n",
       "      <td>78</td>\n",
       "      <td>70</td>\n",
       "      <td>36.55</td>\n",
       "    </tr>\n",
       "    <tr>\n",
       "      <th>25926</th>\n",
       "      <td>03-Sep-21</td>\n",
       "      <td>26124</td>\n",
       "      <td>79</td>\n",
       "      <td>70</td>\n",
       "      <td>38.28</td>\n",
       "    </tr>\n",
       "    <tr>\n",
       "      <th>25927</th>\n",
       "      <td>03-Sep-21</td>\n",
       "      <td>26125</td>\n",
       "      <td>79</td>\n",
       "      <td>70</td>\n",
       "      <td>43.05</td>\n",
       "    </tr>\n",
       "    <tr>\n",
       "      <th>25928</th>\n",
       "      <td>03-Sep-21</td>\n",
       "      <td>26126</td>\n",
       "      <td>78</td>\n",
       "      <td>71</td>\n",
       "      <td>44.86</td>\n",
       "    </tr>\n",
       "  </tbody>\n",
       "</table>\n",
       "</div>"
      ],
      "text/plain": [
       "       ENTRY_DATE  ENTRY_ID  TEMPERATURE_F  HUMIDITY_%  PM2.5_ATM_UG/M3\n",
       "25924   03-Sep-21     26122             78          70            35.43\n",
       "25925   03-Sep-21     26123             78          70            36.55\n",
       "25926   03-Sep-21     26124             79          70            38.28\n",
       "25927   03-Sep-21     26125             79          70            43.05\n",
       "25928   03-Sep-21     26126             78          71            44.86"
      ]
     },
     "execution_count": 12,
     "metadata": {},
     "output_type": "execute_result"
    }
   ],
   "source": [
    "df1.tail()"
   ]
  },
  {
   "cell_type": "code",
   "execution_count": 14,
   "id": "ba136b89",
   "metadata": {},
   "outputs": [
    {
     "data": {
      "text/html": [
       "<div>\n",
       "<style scoped>\n",
       "    .dataframe tbody tr th:only-of-type {\n",
       "        vertical-align: middle;\n",
       "    }\n",
       "\n",
       "    .dataframe tbody tr th {\n",
       "        vertical-align: top;\n",
       "    }\n",
       "\n",
       "    .dataframe thead th {\n",
       "        text-align: right;\n",
       "    }\n",
       "</style>\n",
       "<table border=\"1\" class=\"dataframe\">\n",
       "  <thead>\n",
       "    <tr style=\"text-align: right;\">\n",
       "      <th></th>\n",
       "      <th>ENTRY_DATE</th>\n",
       "      <th>TEMPERATURE_F</th>\n",
       "      <th>HUMIDITY_%</th>\n",
       "      <th>PM2.5_ATM_UG/M3</th>\n",
       "    </tr>\n",
       "    <tr>\n",
       "      <th>ENTRY_ID</th>\n",
       "      <th></th>\n",
       "      <th></th>\n",
       "      <th></th>\n",
       "      <th></th>\n",
       "    </tr>\n",
       "  </thead>\n",
       "  <tbody>\n",
       "    <tr>\n",
       "      <th>198</th>\n",
       "      <td>26-Jul-21</td>\n",
       "      <td>89</td>\n",
       "      <td>50</td>\n",
       "      <td>40.78</td>\n",
       "    </tr>\n",
       "    <tr>\n",
       "      <th>199</th>\n",
       "      <td>26-Jul-21</td>\n",
       "      <td>89</td>\n",
       "      <td>50</td>\n",
       "      <td>40.09</td>\n",
       "    </tr>\n",
       "    <tr>\n",
       "      <th>200</th>\n",
       "      <td>26-Jul-21</td>\n",
       "      <td>89</td>\n",
       "      <td>50</td>\n",
       "      <td>37.93</td>\n",
       "    </tr>\n",
       "    <tr>\n",
       "      <th>201</th>\n",
       "      <td>26-Jul-21</td>\n",
       "      <td>89</td>\n",
       "      <td>50</td>\n",
       "      <td>33.18</td>\n",
       "    </tr>\n",
       "    <tr>\n",
       "      <th>202</th>\n",
       "      <td>26-Jul-21</td>\n",
       "      <td>89</td>\n",
       "      <td>50</td>\n",
       "      <td>37.84</td>\n",
       "    </tr>\n",
       "  </tbody>\n",
       "</table>\n",
       "</div>"
      ],
      "text/plain": [
       "          ENTRY_DATE  TEMPERATURE_F  HUMIDITY_%  PM2.5_ATM_UG/M3\n",
       "ENTRY_ID                                                        \n",
       "198        26-Jul-21             89          50            40.78\n",
       "199        26-Jul-21             89          50            40.09\n",
       "200        26-Jul-21             89          50            37.93\n",
       "201        26-Jul-21             89          50            33.18\n",
       "202        26-Jul-21             89          50            37.84"
      ]
     },
     "execution_count": 14,
     "metadata": {},
     "output_type": "execute_result"
    }
   ],
   "source": [
    "df2=df1.set_index('ENTRY_ID')\n",
    "df2.head()"
   ]
  },
  {
   "cell_type": "markdown",
   "id": "6ce3f647",
   "metadata": {},
   "source": [
    "## 3.checking for null values"
   ]
  },
  {
   "cell_type": "code",
   "execution_count": 15,
   "id": "cdeff20c",
   "metadata": {},
   "outputs": [
    {
     "data": {
      "text/plain": [
       " ENTRY_DATE        0\n",
       "TEMPERATURE_F      0\n",
       "HUMIDITY_%         0\n",
       "PM2.5_ATM_UG/M3    0\n",
       "dtype: int64"
      ]
     },
     "execution_count": 15,
     "metadata": {},
     "output_type": "execute_result"
    }
   ],
   "source": [
    "df2.isnull().sum()"
   ]
  },
  {
   "cell_type": "markdown",
   "id": "c76cae8c",
   "metadata": {},
   "source": [
    "### There is no null values in the given dataset"
   ]
  },
  {
   "cell_type": "markdown",
   "id": "dbaa3351",
   "metadata": {},
   "source": [
    "## 4. Checking for duplicate values"
   ]
  },
  {
   "cell_type": "code",
   "execution_count": 16,
   "id": "c2fa5d44",
   "metadata": {},
   "outputs": [
    {
     "data": {
      "text/html": [
       "<div>\n",
       "<style scoped>\n",
       "    .dataframe tbody tr th:only-of-type {\n",
       "        vertical-align: middle;\n",
       "    }\n",
       "\n",
       "    .dataframe tbody tr th {\n",
       "        vertical-align: top;\n",
       "    }\n",
       "\n",
       "    .dataframe thead th {\n",
       "        text-align: right;\n",
       "    }\n",
       "</style>\n",
       "<table border=\"1\" class=\"dataframe\">\n",
       "  <thead>\n",
       "    <tr style=\"text-align: right;\">\n",
       "      <th></th>\n",
       "      <th>ENTRY_DATE</th>\n",
       "      <th>TEMPERATURE_F</th>\n",
       "      <th>HUMIDITY_%</th>\n",
       "      <th>PM2.5_ATM_UG/M3</th>\n",
       "    </tr>\n",
       "    <tr>\n",
       "      <th>ENTRY_ID</th>\n",
       "      <th></th>\n",
       "      <th></th>\n",
       "      <th></th>\n",
       "      <th></th>\n",
       "    </tr>\n",
       "  </thead>\n",
       "  <tbody>\n",
       "    <tr>\n",
       "      <th>198</th>\n",
       "      <td>26-Jul-21</td>\n",
       "      <td>89</td>\n",
       "      <td>50</td>\n",
       "      <td>40.78</td>\n",
       "    </tr>\n",
       "    <tr>\n",
       "      <th>199</th>\n",
       "      <td>26-Jul-21</td>\n",
       "      <td>89</td>\n",
       "      <td>50</td>\n",
       "      <td>40.09</td>\n",
       "    </tr>\n",
       "    <tr>\n",
       "      <th>200</th>\n",
       "      <td>26-Jul-21</td>\n",
       "      <td>89</td>\n",
       "      <td>50</td>\n",
       "      <td>37.93</td>\n",
       "    </tr>\n",
       "    <tr>\n",
       "      <th>201</th>\n",
       "      <td>26-Jul-21</td>\n",
       "      <td>89</td>\n",
       "      <td>50</td>\n",
       "      <td>33.18</td>\n",
       "    </tr>\n",
       "    <tr>\n",
       "      <th>202</th>\n",
       "      <td>26-Jul-21</td>\n",
       "      <td>89</td>\n",
       "      <td>50</td>\n",
       "      <td>37.84</td>\n",
       "    </tr>\n",
       "    <tr>\n",
       "      <th>...</th>\n",
       "      <td>...</td>\n",
       "      <td>...</td>\n",
       "      <td>...</td>\n",
       "      <td>...</td>\n",
       "    </tr>\n",
       "    <tr>\n",
       "      <th>26122</th>\n",
       "      <td>03-Sep-21</td>\n",
       "      <td>78</td>\n",
       "      <td>70</td>\n",
       "      <td>35.43</td>\n",
       "    </tr>\n",
       "    <tr>\n",
       "      <th>26123</th>\n",
       "      <td>03-Sep-21</td>\n",
       "      <td>78</td>\n",
       "      <td>70</td>\n",
       "      <td>36.55</td>\n",
       "    </tr>\n",
       "    <tr>\n",
       "      <th>26124</th>\n",
       "      <td>03-Sep-21</td>\n",
       "      <td>79</td>\n",
       "      <td>70</td>\n",
       "      <td>38.28</td>\n",
       "    </tr>\n",
       "    <tr>\n",
       "      <th>26125</th>\n",
       "      <td>03-Sep-21</td>\n",
       "      <td>79</td>\n",
       "      <td>70</td>\n",
       "      <td>43.05</td>\n",
       "    </tr>\n",
       "    <tr>\n",
       "      <th>26126</th>\n",
       "      <td>03-Sep-21</td>\n",
       "      <td>78</td>\n",
       "      <td>71</td>\n",
       "      <td>44.86</td>\n",
       "    </tr>\n",
       "  </tbody>\n",
       "</table>\n",
       "<p>25720 rows × 4 columns</p>\n",
       "</div>"
      ],
      "text/plain": [
       "          ENTRY_DATE  TEMPERATURE_F  HUMIDITY_%  PM2.5_ATM_UG/M3\n",
       "ENTRY_ID                                                        \n",
       "198        26-Jul-21             89          50            40.78\n",
       "199        26-Jul-21             89          50            40.09\n",
       "200        26-Jul-21             89          50            37.93\n",
       "201        26-Jul-21             89          50            33.18\n",
       "202        26-Jul-21             89          50            37.84\n",
       "...              ...            ...         ...              ...\n",
       "26122      03-Sep-21             78          70            35.43\n",
       "26123      03-Sep-21             78          70            36.55\n",
       "26124      03-Sep-21             79          70            38.28\n",
       "26125      03-Sep-21             79          70            43.05\n",
       "26126      03-Sep-21             78          71            44.86\n",
       "\n",
       "[25720 rows x 4 columns]"
      ]
     },
     "execution_count": 16,
     "metadata": {},
     "output_type": "execute_result"
    }
   ],
   "source": [
    "df2.drop_duplicates()"
   ]
  },
  {
   "cell_type": "code",
   "execution_count": 17,
   "id": "b5735e9d",
   "metadata": {},
   "outputs": [
    {
     "name": "stdout",
     "output_type": "stream",
     "text": [
      "209\n"
     ]
    }
   ],
   "source": [
    "print(df2.duplicated().sum())"
   ]
  },
  {
   "cell_type": "markdown",
   "id": "cb4ded00",
   "metadata": {},
   "source": [
    "### There are 209 rows that are  found duplicated  and it is dropped"
   ]
  },
  {
   "cell_type": "markdown",
   "id": "11679cc5",
   "metadata": {},
   "source": [
    "## 5. Finding outliers and removing it"
   ]
  },
  {
   "cell_type": "code",
   "execution_count": null,
   "id": "fe24d865",
   "metadata": {},
   "outputs": [],
   "source": [
    "df.drop_duplicates(subset= ['correct data','Temperature_F','Humidity_%'])\n"
   ]
  },
  {
   "cell_type": "code",
   "execution_count": 21,
   "id": "0d13352a",
   "metadata": {},
   "outputs": [
    {
     "data": {
      "text/html": [
       "<div>\n",
       "<style scoped>\n",
       "    .dataframe tbody tr th:only-of-type {\n",
       "        vertical-align: middle;\n",
       "    }\n",
       "\n",
       "    .dataframe tbody tr th {\n",
       "        vertical-align: top;\n",
       "    }\n",
       "\n",
       "    .dataframe thead th {\n",
       "        text-align: right;\n",
       "    }\n",
       "</style>\n",
       "<table border=\"1\" class=\"dataframe\">\n",
       "  <thead>\n",
       "    <tr style=\"text-align: right;\">\n",
       "      <th></th>\n",
       "      <th>TEMPERATURE_F</th>\n",
       "      <th>HUMIDITY_%</th>\n",
       "      <th>PM2.5_ATM_UG/M3</th>\n",
       "    </tr>\n",
       "  </thead>\n",
       "  <tbody>\n",
       "    <tr>\n",
       "      <th>count</th>\n",
       "      <td>25929.000000</td>\n",
       "      <td>25929.000000</td>\n",
       "      <td>25929.000000</td>\n",
       "    </tr>\n",
       "    <tr>\n",
       "      <th>mean</th>\n",
       "      <td>84.467700</td>\n",
       "      <td>64.957885</td>\n",
       "      <td>57.745478</td>\n",
       "    </tr>\n",
       "    <tr>\n",
       "      <th>std</th>\n",
       "      <td>3.946198</td>\n",
       "      <td>8.372425</td>\n",
       "      <td>42.575866</td>\n",
       "    </tr>\n",
       "    <tr>\n",
       "      <th>min</th>\n",
       "      <td>73.000000</td>\n",
       "      <td>29.000000</td>\n",
       "      <td>2.890000</td>\n",
       "    </tr>\n",
       "    <tr>\n",
       "      <th>25%</th>\n",
       "      <td>82.000000</td>\n",
       "      <td>61.000000</td>\n",
       "      <td>33.780000</td>\n",
       "    </tr>\n",
       "    <tr>\n",
       "      <th>50%</th>\n",
       "      <td>84.000000</td>\n",
       "      <td>67.000000</td>\n",
       "      <td>43.390000</td>\n",
       "    </tr>\n",
       "    <tr>\n",
       "      <th>75%</th>\n",
       "      <td>86.000000</td>\n",
       "      <td>71.000000</td>\n",
       "      <td>64.300000</td>\n",
       "    </tr>\n",
       "    <tr>\n",
       "      <th>max</th>\n",
       "      <td>103.000000</td>\n",
       "      <td>87.000000</td>\n",
       "      <td>568.080000</td>\n",
       "    </tr>\n",
       "  </tbody>\n",
       "</table>\n",
       "</div>"
      ],
      "text/plain": [
       "       TEMPERATURE_F    HUMIDITY_%  PM2.5_ATM_UG/M3\n",
       "count   25929.000000  25929.000000     25929.000000\n",
       "mean       84.467700     64.957885        57.745478\n",
       "std         3.946198      8.372425        42.575866\n",
       "min        73.000000     29.000000         2.890000\n",
       "25%        82.000000     61.000000        33.780000\n",
       "50%        84.000000     67.000000        43.390000\n",
       "75%        86.000000     71.000000        64.300000\n",
       "max       103.000000     87.000000       568.080000"
      ]
     },
     "execution_count": 21,
     "metadata": {},
     "output_type": "execute_result"
    }
   ],
   "source": [
    "df2.describe()"
   ]
  },
  {
   "cell_type": "code",
   "execution_count": 25,
   "id": "724be084",
   "metadata": {},
   "outputs": [
    {
     "data": {
      "text/plain": [
       "<AxesSubplot:>"
      ]
     },
     "execution_count": 25,
     "metadata": {},
     "output_type": "execute_result"
    },
    {
     "data": {
      "image/png": "[encoded data removed]",
      "text/plain": [
       "<Figure size 432x288 with 1 Axes>"
      ]
     },
     "metadata": {
      "needs_background": "light"
     },
     "output_type": "display_data"
    }
   ],
   "source": [
    "df2.boxplot('PM2.5_ATM_UG/M3')"
   ]
  },
  {
   "cell_type": "code",
   "execution_count": 26,
   "id": "ea2bf99e",
   "metadata": {},
   "outputs": [
    {
     "data": {
      "text/plain": [
       "<AxesSubplot:>"
      ]
     },
     "execution_count": 26,
     "metadata": {},
     "output_type": "execute_result"
    },
    {
     "data": {
      "image/png": "[encoded data removed]",
      "text/plain": [
       "<Figure size 432x288 with 1 Axes>"
      ]
     },
     "metadata": {
      "needs_background": "light"
     },
     "output_type": "display_data"
    }
   ],
   "source": [
    "df.boxplot('TEMPERATURE_F')"
   ]
  },
  {
   "cell_type": "code",
   "execution_count": 27,
   "id": "917afaa7",
   "metadata": {
    "scrolled": true
   },
   "outputs": [
    {
     "data": {
      "text/plain": [
       "<AxesSubplot:>"
      ]
     },
     "execution_count": 27,
     "metadata": {},
     "output_type": "execute_result"
    },
    {
     "data": {
      "image/png": "[encoded data removed]",
      "text/plain": [
       "<Figure size 432x288 with 1 Axes>"
      ]
     },
     "metadata": {
      "needs_background": "light"
     },
     "output_type": "display_data"
    }
   ],
   "source": [
    "df.boxplot('HUMIDITY_%')"
   ]
  },
  {
   "cell_type": "code",
   "execution_count": 28,
   "id": "a90be6c8",
   "metadata": {},
   "outputs": [
    {
     "data": {
      "text/plain": [
       "array([[<AxesSubplot:title={'center':'PM2.5_ATM_UG/M3'}>]], dtype=object)"
      ]
     },
     "execution_count": 28,
     "metadata": {},
     "output_type": "execute_result"
    },
    {
     "data": {
      "image/png": "[encoded data removed]",
      "text/plain": [
       "<Figure size 432x288 with 1 Axes>"
      ]
     },
     "metadata": {
      "needs_background": "light"
     },
     "output_type": "display_data"
    }
   ],
   "source": [
    "df.hist('PM2.5_ATM_UG/M3')"
   ]
  },
  {
   "cell_type": "code",
   "execution_count": 43,
   "id": "2a69f8e7",
   "metadata": {},
   "outputs": [
    {
     "data": {
      "text/plain": [
       "array([[<AxesSubplot:title={'center':'TEMPERATURE_F'}>]], dtype=object)"
      ]
     },
     "execution_count": 43,
     "metadata": {},
     "output_type": "execute_result"
    },
    {
     "data": {
      "image/png": "[encoded data removed]",
      "text/plain": [
       "<Figure size 432x288 with 1 Axes>"
      ]
     },
     "metadata": {
      "needs_background": "light"
     },
     "output_type": "display_data"
    }
   ],
   "source": [
    "df.hist('TEMPERATURE_F')"
   ]
  },
  {
   "cell_type": "code",
   "execution_count": 29,
   "id": "7093d8f8",
   "metadata": {},
   "outputs": [
    {
     "data": {
      "text/plain": [
       "array([[<AxesSubplot:title={'center':'HUMIDITY_%'}>]], dtype=object)"
      ]
     },
     "execution_count": 29,
     "metadata": {},
     "output_type": "execute_result"
    },
    {
     "data": {
      "image/png": "[encoded data removed]",
      "text/plain": [
       "<Figure size 432x288 with 1 Axes>"
      ]
     },
     "metadata": {
      "needs_background": "light"
     },
     "output_type": "display_data"
    }
   ],
   "source": [
    "df.hist('HUMIDITY_%')"
   ]
  },
  {
   "cell_type": "code",
   "execution_count": 30,
   "id": "a8497141",
   "metadata": {},
   "outputs": [
    {
     "data": {
      "text/plain": [
       "(33.78, 64.3)"
      ]
     },
     "execution_count": 30,
     "metadata": {},
     "output_type": "execute_result"
    }
   ],
   "source": [
    "Q1 =df2['PM2.5_ATM_UG/M3'].quantile(0.25)\n",
    "Q3 =df2['PM2.5_ATM_UG/M3'].quantile(0.75)\n",
    "Q1,Q3"
   ]
  },
  {
   "cell_type": "code",
   "execution_count": 31,
   "id": "0dd8eafc",
   "metadata": {},
   "outputs": [
    {
     "data": {
      "text/plain": [
       "30.519999999999996"
      ]
     },
     "execution_count": 31,
     "metadata": {},
     "output_type": "execute_result"
    }
   ],
   "source": [
    "IQR = Q3-Q1\n",
    "IQR"
   ]
  },
  {
   "cell_type": "code",
   "execution_count": 32,
   "id": "1e1b9da2",
   "metadata": {},
   "outputs": [
    {
     "data": {
      "text/plain": [
       "(-11.999999999999993, 110.07999999999998)"
      ]
     },
     "execution_count": 32,
     "metadata": {},
     "output_type": "execute_result"
    }
   ],
   "source": [
    "lower_limit = Q1 - 1.5*IQR\n",
    "upper_limit = Q3 + 1.5*IQR\n",
    "lower_limit,upper_limit"
   ]
  },
  {
   "cell_type": "code",
   "execution_count": 37,
   "id": "91850da5",
   "metadata": {},
   "outputs": [
    {
     "data": {
      "text/html": [
       "<div>\n",
       "<style scoped>\n",
       "    .dataframe tbody tr th:only-of-type {\n",
       "        vertical-align: middle;\n",
       "    }\n",
       "\n",
       "    .dataframe tbody tr th {\n",
       "        vertical-align: top;\n",
       "    }\n",
       "\n",
       "    .dataframe thead th {\n",
       "        text-align: right;\n",
       "    }\n",
       "</style>\n",
       "<table border=\"1\" class=\"dataframe\">\n",
       "  <thead>\n",
       "    <tr style=\"text-align: right;\">\n",
       "      <th></th>\n",
       "      <th>ENTRY_DATE</th>\n",
       "      <th>TEMPERATURE_F</th>\n",
       "      <th>HUMIDITY_%</th>\n",
       "      <th>PM2.5_ATM_UG/M3</th>\n",
       "    </tr>\n",
       "    <tr>\n",
       "      <th>ENTRY_ID</th>\n",
       "      <th></th>\n",
       "      <th></th>\n",
       "      <th></th>\n",
       "      <th></th>\n",
       "    </tr>\n",
       "  </thead>\n",
       "  <tbody>\n",
       "    <tr>\n",
       "      <th>333</th>\n",
       "      <td>26-Jul-21</td>\n",
       "      <td>84</td>\n",
       "      <td>58</td>\n",
       "      <td>113.85</td>\n",
       "    </tr>\n",
       "    <tr>\n",
       "      <th>334</th>\n",
       "      <td>26-Jul-21</td>\n",
       "      <td>84</td>\n",
       "      <td>58</td>\n",
       "      <td>117.21</td>\n",
       "    </tr>\n",
       "    <tr>\n",
       "      <th>335</th>\n",
       "      <td>26-Jul-21</td>\n",
       "      <td>84</td>\n",
       "      <td>58</td>\n",
       "      <td>117.71</td>\n",
       "    </tr>\n",
       "    <tr>\n",
       "      <th>336</th>\n",
       "      <td>26-Jul-21</td>\n",
       "      <td>84</td>\n",
       "      <td>58</td>\n",
       "      <td>116.68</td>\n",
       "    </tr>\n",
       "    <tr>\n",
       "      <th>337</th>\n",
       "      <td>26-Jul-21</td>\n",
       "      <td>84</td>\n",
       "      <td>58</td>\n",
       "      <td>128.42</td>\n",
       "    </tr>\n",
       "    <tr>\n",
       "      <th>...</th>\n",
       "      <td>...</td>\n",
       "      <td>...</td>\n",
       "      <td>...</td>\n",
       "      <td>...</td>\n",
       "    </tr>\n",
       "    <tr>\n",
       "      <th>25919</th>\n",
       "      <td>03-Sep-21</td>\n",
       "      <td>82</td>\n",
       "      <td>70</td>\n",
       "      <td>167.05</td>\n",
       "    </tr>\n",
       "    <tr>\n",
       "      <th>25920</th>\n",
       "      <td>03-Sep-21</td>\n",
       "      <td>82</td>\n",
       "      <td>70</td>\n",
       "      <td>154.68</td>\n",
       "    </tr>\n",
       "    <tr>\n",
       "      <th>25922</th>\n",
       "      <td>03-Sep-21</td>\n",
       "      <td>82</td>\n",
       "      <td>70</td>\n",
       "      <td>365.43</td>\n",
       "    </tr>\n",
       "    <tr>\n",
       "      <th>25923</th>\n",
       "      <td>03-Sep-21</td>\n",
       "      <td>82</td>\n",
       "      <td>70</td>\n",
       "      <td>263.79</td>\n",
       "    </tr>\n",
       "    <tr>\n",
       "      <th>25925</th>\n",
       "      <td>03-Sep-21</td>\n",
       "      <td>82</td>\n",
       "      <td>71</td>\n",
       "      <td>113.76</td>\n",
       "    </tr>\n",
       "  </tbody>\n",
       "</table>\n",
       "<p>2704 rows × 4 columns</p>\n",
       "</div>"
      ],
      "text/plain": [
       "          ENTRY_DATE  TEMPERATURE_F  HUMIDITY_%  PM2.5_ATM_UG/M3\n",
       "ENTRY_ID                                                        \n",
       "333        26-Jul-21             84          58           113.85\n",
       "334        26-Jul-21             84          58           117.21\n",
       "335        26-Jul-21             84          58           117.71\n",
       "336        26-Jul-21             84          58           116.68\n",
       "337        26-Jul-21             84          58           128.42\n",
       "...              ...            ...         ...              ...\n",
       "25919      03-Sep-21             82          70           167.05\n",
       "25920      03-Sep-21             82          70           154.68\n",
       "25922      03-Sep-21             82          70           365.43\n",
       "25923      03-Sep-21             82          70           263.79\n",
       "25925      03-Sep-21             82          71           113.76\n",
       "\n",
       "[2704 rows x 4 columns]"
      ]
     },
     "execution_count": 37,
     "metadata": {},
     "output_type": "execute_result"
    }
   ],
   "source": [
    "df2[(df2['PM2.5_ATM_UG/M3']<lower_limit)|(df2['PM2.5_ATM_UG/M3']>upper_limit)]\n"
   ]
  },
  {
   "cell_type": "code",
   "execution_count": 36,
   "id": "ffb69d8f",
   "metadata": {},
   "outputs": [
    {
     "data": {
      "text/html": [
       "<div>\n",
       "<style scoped>\n",
       "    .dataframe tbody tr th:only-of-type {\n",
       "        vertical-align: middle;\n",
       "    }\n",
       "\n",
       "    .dataframe tbody tr th {\n",
       "        vertical-align: top;\n",
       "    }\n",
       "\n",
       "    .dataframe thead th {\n",
       "        text-align: right;\n",
       "    }\n",
       "</style>\n",
       "<table border=\"1\" class=\"dataframe\">\n",
       "  <thead>\n",
       "    <tr style=\"text-align: right;\">\n",
       "      <th></th>\n",
       "      <th>ENTRY_DATE</th>\n",
       "      <th>TEMPERATURE_F</th>\n",
       "      <th>HUMIDITY_%</th>\n",
       "      <th>PM2.5_ATM_UG/M3</th>\n",
       "    </tr>\n",
       "    <tr>\n",
       "      <th>ENTRY_ID</th>\n",
       "      <th></th>\n",
       "      <th></th>\n",
       "      <th></th>\n",
       "      <th></th>\n",
       "    </tr>\n",
       "  </thead>\n",
       "  <tbody>\n",
       "    <tr>\n",
       "      <th>198</th>\n",
       "      <td>26-Jul-21</td>\n",
       "      <td>89</td>\n",
       "      <td>50</td>\n",
       "      <td>40.78</td>\n",
       "    </tr>\n",
       "    <tr>\n",
       "      <th>199</th>\n",
       "      <td>26-Jul-21</td>\n",
       "      <td>89</td>\n",
       "      <td>50</td>\n",
       "      <td>40.09</td>\n",
       "    </tr>\n",
       "    <tr>\n",
       "      <th>200</th>\n",
       "      <td>26-Jul-21</td>\n",
       "      <td>89</td>\n",
       "      <td>50</td>\n",
       "      <td>37.93</td>\n",
       "    </tr>\n",
       "    <tr>\n",
       "      <th>201</th>\n",
       "      <td>26-Jul-21</td>\n",
       "      <td>89</td>\n",
       "      <td>50</td>\n",
       "      <td>33.18</td>\n",
       "    </tr>\n",
       "    <tr>\n",
       "      <th>202</th>\n",
       "      <td>26-Jul-21</td>\n",
       "      <td>89</td>\n",
       "      <td>50</td>\n",
       "      <td>37.84</td>\n",
       "    </tr>\n",
       "    <tr>\n",
       "      <th>...</th>\n",
       "      <td>...</td>\n",
       "      <td>...</td>\n",
       "      <td>...</td>\n",
       "      <td>...</td>\n",
       "    </tr>\n",
       "    <tr>\n",
       "      <th>26122</th>\n",
       "      <td>03-Sep-21</td>\n",
       "      <td>78</td>\n",
       "      <td>70</td>\n",
       "      <td>35.43</td>\n",
       "    </tr>\n",
       "    <tr>\n",
       "      <th>26123</th>\n",
       "      <td>03-Sep-21</td>\n",
       "      <td>78</td>\n",
       "      <td>70</td>\n",
       "      <td>36.55</td>\n",
       "    </tr>\n",
       "    <tr>\n",
       "      <th>26124</th>\n",
       "      <td>03-Sep-21</td>\n",
       "      <td>79</td>\n",
       "      <td>70</td>\n",
       "      <td>38.28</td>\n",
       "    </tr>\n",
       "    <tr>\n",
       "      <th>26125</th>\n",
       "      <td>03-Sep-21</td>\n",
       "      <td>79</td>\n",
       "      <td>70</td>\n",
       "      <td>43.05</td>\n",
       "    </tr>\n",
       "    <tr>\n",
       "      <th>26126</th>\n",
       "      <td>03-Sep-21</td>\n",
       "      <td>78</td>\n",
       "      <td>71</td>\n",
       "      <td>44.86</td>\n",
       "    </tr>\n",
       "  </tbody>\n",
       "</table>\n",
       "<p>23225 rows × 4 columns</p>\n",
       "</div>"
      ],
      "text/plain": [
       "          ENTRY_DATE  TEMPERATURE_F  HUMIDITY_%  PM2.5_ATM_UG/M3\n",
       "ENTRY_ID                                                        \n",
       "198        26-Jul-21             89          50            40.78\n",
       "199        26-Jul-21             89          50            40.09\n",
       "200        26-Jul-21             89          50            37.93\n",
       "201        26-Jul-21             89          50            33.18\n",
       "202        26-Jul-21             89          50            37.84\n",
       "...              ...            ...         ...              ...\n",
       "26122      03-Sep-21             78          70            35.43\n",
       "26123      03-Sep-21             78          70            36.55\n",
       "26124      03-Sep-21             79          70            38.28\n",
       "26125      03-Sep-21             79          70            43.05\n",
       "26126      03-Sep-21             78          71            44.86\n",
       "\n",
       "[23225 rows x 4 columns]"
      ]
     },
     "execution_count": 36,
     "metadata": {},
     "output_type": "execute_result"
    }
   ],
   "source": [
    "df_no_outliers= df2[(df2['PM2.5_ATM_UG/M3']>lower_limit)&(df2['PM2.5_ATM_UG/M3']<upper_limit)]\n",
    "df_no_outliers\n"
   ]
  },
  {
   "cell_type": "code",
   "execution_count": 39,
   "id": "e64501bf",
   "metadata": {},
   "outputs": [
    {
     "data": {
      "text/plain": [
       " ENTRY_DATE          40\n",
       "TEMPERATURE_F        30\n",
       "HUMIDITY_%           59\n",
       "PM2.5_ATM_UG/M3    9569\n",
       "dtype: int64"
      ]
     },
     "execution_count": 39,
     "metadata": {},
     "output_type": "execute_result"
    }
   ],
   "source": [
    "df2.nunique()"
   ]
  },
  {
   "cell_type": "code",
   "execution_count": null,
   "id": "e71a8464",
   "metadata": {},
   "outputs": [],
   "source": []
  },
  {
   "cell_type": "code",
   "execution_count": null,
   "id": "9be6dce7",
   "metadata": {},
   "outputs": [],
   "source": []
  },
  {
   "cell_type": "code",
   "execution_count": null,
   "id": "aba86f0a",
   "metadata": {},
   "outputs": [],
   "source": []
  },
  {
   "cell_type": "code",
   "execution_count": null,
   "id": "6ac3f098",
   "metadata": {},
   "outputs": [],
   "source": []
  }
 ],
 "metadata": {
  "kernelspec": {
   "display_name": "Python 3",
   "language": "python",
   "name": "python3"
  },
  "language_info": {
   "codemirror_mode": {
    "name": "ipython",
    "version": 3
   },
   "file_extension": ".py",
   "mimetype": "text/x-python",
   "name": "python",
   "nbconvert_exporter": "python",
   "pygments_lexer": "ipython3",
   "version": "3.8.8"
  }
 },
 "nbformat": 4,
 "nbformat_minor": 5
}
